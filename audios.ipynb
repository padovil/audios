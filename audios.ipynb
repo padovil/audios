{
  "cells": [
    {
      "attachments": {},
      "cell_type": "markdown",
      "metadata": {
        "id": "K_VdNQ9cbfoK"
      },
      "source": [
        "# Import"
      ]
    },
    {
      "cell_type": "code",
      "execution_count": 46,
      "metadata": {
        "colab": {
          "base_uri": "https://localhost:8080/"
        },
        "id": "wQT7FXC9lzfu",
        "outputId": "7f2c2ab9-3575-411f-b069-2e1e9921645a"
      },
      "outputs": [
        {
          "name": "stdout",
          "output_type": "stream",
          "text": [
            "Requirement already satisfied: spotipy in ./.venv/lib/python3.10/site-packages (2.23.0)\n",
            "Requirement already satisfied: redis>=3.5.3 in ./.venv/lib/python3.10/site-packages (from spotipy) (5.0.1)\n",
            "Requirement already satisfied: requests>=2.25.0 in ./.venv/lib/python3.10/site-packages (from spotipy) (2.31.0)\n",
            "Requirement already satisfied: six>=1.15.0 in ./.venv/lib/python3.10/site-packages (from spotipy) (1.16.0)\n",
            "Requirement already satisfied: urllib3>=1.26.0 in ./.venv/lib/python3.10/site-packages (from spotipy) (2.0.7)\n",
            "Requirement already satisfied: async-timeout>=4.0.2 in ./.venv/lib/python3.10/site-packages (from redis>=3.5.3->spotipy) (4.0.3)\n",
            "Requirement already satisfied: charset-normalizer<4,>=2 in ./.venv/lib/python3.10/site-packages (from requests>=2.25.0->spotipy) (3.3.2)\n",
            "Requirement already satisfied: idna<4,>=2.5 in ./.venv/lib/python3.10/site-packages (from requests>=2.25.0->spotipy) (3.4)\n",
            "Requirement already satisfied: certifi>=2017.4.17 in ./.venv/lib/python3.10/site-packages (from requests>=2.25.0->spotipy) (2023.7.22)\n",
            "Note: you may need to restart the kernel to use updated packages.\n",
            "Requirement already satisfied: lyricsgenius in ./.venv/lib/python3.10/site-packages (3.0.1)\n",
            "Requirement already satisfied: beautifulsoup4>=4.6.0 in ./.venv/lib/python3.10/site-packages (from lyricsgenius) (4.12.2)\n",
            "Requirement already satisfied: requests>=2.20.0 in ./.venv/lib/python3.10/site-packages (from lyricsgenius) (2.31.0)\n",
            "Requirement already satisfied: soupsieve>1.2 in ./.venv/lib/python3.10/site-packages (from beautifulsoup4>=4.6.0->lyricsgenius) (2.5)\n",
            "Requirement already satisfied: charset-normalizer<4,>=2 in ./.venv/lib/python3.10/site-packages (from requests>=2.20.0->lyricsgenius) (3.3.2)\n",
            "Requirement already satisfied: idna<4,>=2.5 in ./.venv/lib/python3.10/site-packages (from requests>=2.20.0->lyricsgenius) (3.4)\n",
            "Requirement already satisfied: urllib3<3,>=1.21.1 in ./.venv/lib/python3.10/site-packages (from requests>=2.20.0->lyricsgenius) (2.0.7)\n",
            "Requirement already satisfied: certifi>=2017.4.17 in ./.venv/lib/python3.10/site-packages (from requests>=2.20.0->lyricsgenius) (2023.7.22)\n",
            "Note: you may need to restart the kernel to use updated packages.\n",
            "Requirement already satisfied: pandas in ./.venv/lib/python3.10/site-packages (2.1.2)\n",
            "Requirement already satisfied: numpy<2,>=1.22.4 in ./.venv/lib/python3.10/site-packages (from pandas) (1.26.1)\n",
            "Requirement already satisfied: python-dateutil>=2.8.2 in ./.venv/lib/python3.10/site-packages (from pandas) (2.8.2)\n",
            "Requirement already satisfied: pytz>=2020.1 in ./.venv/lib/python3.10/site-packages (from pandas) (2023.3.post1)\n",
            "Requirement already satisfied: tzdata>=2022.1 in ./.venv/lib/python3.10/site-packages (from pandas) (2023.3)\n",
            "Requirement already satisfied: six>=1.5 in ./.venv/lib/python3.10/site-packages (from python-dateutil>=2.8.2->pandas) (1.16.0)\n",
            "Note: you may need to restart the kernel to use updated packages.\n"
          ]
        },
        {
          "name": "stderr",
          "output_type": "stream",
          "text": [
            "UsageError: Line magic function `%git` not found.\n"
          ]
        }
      ],
      "source": [
        "%pip install spotipy\n",
        "%pip install lyricsgenius\n",
        "%pip install pandas\n",
        "%git clone https://github.com/JayChen35/spotify-to-mp3-python.git\n",
        "!pip3 install spotipy && pip3 install youtube_dl && pip3 install youtube_search && pip3 install yt_dlp && pip3 install ffprobe && pip3 install ffmpeg"
      ]
    },
    {
      "cell_type": "code",
      "execution_count": 47,
      "metadata": {
        "id": "F2wdVQHtatFu"
      },
      "outputs": [],
      "source": [
        "import json\n",
        "import pandas as pd\n",
        "import numpy as np\n",
        "import ast\n",
        "from lyricsgenius import Genius\n",
        "import spotipy\n",
        "from spotipy.oauth2 import SpotifyClientCredentials"
      ]
    },
    {
      "attachments": {},
      "cell_type": "markdown",
      "metadata": {},
      "source": [
        "# Data"
      ]
    },
    {
      "cell_type": "code",
      "execution_count": 48,
      "metadata": {},
      "outputs": [],
      "source": [
        "df = pd.read_csv('/home/aaldana/Descargas/music/data/data_Finaly.csv').astype({'valence_tags': np.float32, 'arousal_tags':np.float32, 'dominance_tags':np.float32})"
      ]
    },
    {
      "cell_type": "code",
      "execution_count": 49,
      "metadata": {},
      "outputs": [],
      "source": [
        "df = df.head()"
      ]
    },
    {
      "cell_type": "code",
      "execution_count": 39,
      "metadata": {},
      "outputs": [
        {
          "data": {
            "text/html": [
              "<div>\n",
              "<style scoped>\n",
              "    .dataframe tbody tr th:only-of-type {\n",
              "        vertical-align: middle;\n",
              "    }\n",
              "\n",
              "    .dataframe tbody tr th {\n",
              "        vertical-align: top;\n",
              "    }\n",
              "\n",
              "    .dataframe thead th {\n",
              "        text-align: right;\n",
              "    }\n",
              "</style>\n",
              "<table border=\"1\" class=\"dataframe\">\n",
              "  <thead>\n",
              "    <tr style=\"text-align: right;\">\n",
              "      <th></th>\n",
              "      <th>spotify_id</th>\n",
              "      <th>track</th>\n",
              "      <th>artist</th>\n",
              "      <th>seeds</th>\n",
              "      <th>cuadrante</th>\n",
              "      <th>Letra</th>\n",
              "      <th>Idioma</th>\n",
              "      <th>audios</th>\n",
              "      <th>number_of_emotion_tags</th>\n",
              "      <th>valence_tags</th>\n",
              "      <th>...</th>\n",
              "      <th>restrained</th>\n",
              "      <th>wintry</th>\n",
              "      <th>noble</th>\n",
              "      <th>monastic</th>\n",
              "      <th>sugary</th>\n",
              "      <th>benevolent</th>\n",
              "      <th>jovial</th>\n",
              "      <th>ebullient</th>\n",
              "      <th>hymn-like</th>\n",
              "      <th>sprightly</th>\n",
              "    </tr>\n",
              "  </thead>\n",
              "  <tbody>\n",
              "    <tr>\n",
              "      <th>0</th>\n",
              "      <td>3Vt8m8f1ixiEIbUaOdnN7z</td>\n",
              "      <td>Will We Survive</td>\n",
              "      <td>Swans</td>\n",
              "      <td>apocalyptic</td>\n",
              "      <td>2</td>\n",
              "      <td>letras/1-Will-We-Survive-Swans.txt</td>\n",
              "      <td>en</td>\n",
              "      <td>1-Will-We-Survive-Swans</td>\n",
              "      <td>3</td>\n",
              "      <td>5.140426</td>\n",
              "      <td>...</td>\n",
              "      <td>0.0</td>\n",
              "      <td>0.0</td>\n",
              "      <td>0.0</td>\n",
              "      <td>0.0</td>\n",
              "      <td>0.0</td>\n",
              "      <td>0.0</td>\n",
              "      <td>0.0</td>\n",
              "      <td>0.0</td>\n",
              "      <td>0.0</td>\n",
              "      <td>0.0</td>\n",
              "    </tr>\n",
              "    <tr>\n",
              "      <th>1</th>\n",
              "      <td>3TQs5AmPNEnnTNSXzCQV7G</td>\n",
              "      <td>Amsterdam (Live)</td>\n",
              "      <td>Coldplay</td>\n",
              "      <td>soft</td>\n",
              "      <td>1</td>\n",
              "      <td>letras/2-Amsterdam-(Live)-Coldplay.txt</td>\n",
              "      <td>en</td>\n",
              "      <td>2-Amsterdam-(Live)-Coldplay</td>\n",
              "      <td>5</td>\n",
              "      <td>6.191030</td>\n",
              "      <td>...</td>\n",
              "      <td>0.0</td>\n",
              "      <td>0.0</td>\n",
              "      <td>0.0</td>\n",
              "      <td>0.0</td>\n",
              "      <td>0.0</td>\n",
              "      <td>0.0</td>\n",
              "      <td>0.0</td>\n",
              "      <td>0.0</td>\n",
              "      <td>0.0</td>\n",
              "      <td>0.0</td>\n",
              "    </tr>\n",
              "    <tr>\n",
              "      <th>2</th>\n",
              "      <td>19PBArrx6ovbCxQQmrc1gB</td>\n",
              "      <td>Scream</td>\n",
              "      <td>The 5.6.7.8's</td>\n",
              "      <td>positive</td>\n",
              "      <td>4</td>\n",
              "      <td>letras/3-Scream-The-5.6.7.8's.txt</td>\n",
              "      <td>en</td>\n",
              "      <td>3-Scream-The-5.6.7.8s</td>\n",
              "      <td>3</td>\n",
              "      <td>5.313334</td>\n",
              "      <td>...</td>\n",
              "      <td>0.0</td>\n",
              "      <td>0.0</td>\n",
              "      <td>0.0</td>\n",
              "      <td>0.0</td>\n",
              "      <td>0.0</td>\n",
              "      <td>0.0</td>\n",
              "      <td>0.0</td>\n",
              "      <td>0.0</td>\n",
              "      <td>0.0</td>\n",
              "      <td>0.0</td>\n",
              "    </tr>\n",
              "    <tr>\n",
              "      <th>3</th>\n",
              "      <td>0XUmcLTevswNlnS2oU45Cr</td>\n",
              "      <td>Welcome to Paradise</td>\n",
              "      <td>Sensorica</td>\n",
              "      <td>euphoric</td>\n",
              "      <td>1</td>\n",
              "      <td>letras/4-Welcome-to-Paradise-Sensorica.txt</td>\n",
              "      <td>es</td>\n",
              "      <td>4-Welcome-to-Paradise-Sensorica</td>\n",
              "      <td>2</td>\n",
              "      <td>6.760000</td>\n",
              "      <td>...</td>\n",
              "      <td>0.0</td>\n",
              "      <td>0.0</td>\n",
              "      <td>0.0</td>\n",
              "      <td>0.0</td>\n",
              "      <td>0.0</td>\n",
              "      <td>0.0</td>\n",
              "      <td>0.0</td>\n",
              "      <td>0.0</td>\n",
              "      <td>0.0</td>\n",
              "      <td>0.0</td>\n",
              "    </tr>\n",
              "    <tr>\n",
              "      <th>4</th>\n",
              "      <td>7DgQ1vzahOgimHdnm2pQov</td>\n",
              "      <td>The Last Hour</td>\n",
              "      <td>Elliott Smith</td>\n",
              "      <td>melancholy</td>\n",
              "      <td>4</td>\n",
              "      <td>letras/5-The-Last-Hour-Elliott-Smith.txt</td>\n",
              "      <td>en</td>\n",
              "      <td>5-The-Last-Hour-Elliott-Smith</td>\n",
              "      <td>9</td>\n",
              "      <td>5.099337</td>\n",
              "      <td>...</td>\n",
              "      <td>0.0</td>\n",
              "      <td>0.0</td>\n",
              "      <td>0.0</td>\n",
              "      <td>0.0</td>\n",
              "      <td>0.0</td>\n",
              "      <td>0.0</td>\n",
              "      <td>0.0</td>\n",
              "      <td>0.0</td>\n",
              "      <td>0.0</td>\n",
              "      <td>0.0</td>\n",
              "    </tr>\n",
              "  </tbody>\n",
              "</table>\n",
              "<p>5 rows × 192 columns</p>\n",
              "</div>"
            ],
            "text/plain": [
              "               spotify_id                track         artist        seeds  \\\n",
              "0  3Vt8m8f1ixiEIbUaOdnN7z      Will We Survive          Swans  apocalyptic   \n",
              "1  3TQs5AmPNEnnTNSXzCQV7G     Amsterdam (Live)       Coldplay         soft   \n",
              "2  19PBArrx6ovbCxQQmrc1gB               Scream  The 5.6.7.8's     positive   \n",
              "3  0XUmcLTevswNlnS2oU45Cr  Welcome to Paradise      Sensorica     euphoric   \n",
              "4  7DgQ1vzahOgimHdnm2pQov        The Last Hour  Elliott Smith   melancholy   \n",
              "\n",
              "   cuadrante                                       Letra Idioma  \\\n",
              "0          2          letras/1-Will-We-Survive-Swans.txt     en   \n",
              "1          1      letras/2-Amsterdam-(Live)-Coldplay.txt     en   \n",
              "2          4           letras/3-Scream-The-5.6.7.8's.txt     en   \n",
              "3          1  letras/4-Welcome-to-Paradise-Sensorica.txt     es   \n",
              "4          4    letras/5-The-Last-Hour-Elliott-Smith.txt     en   \n",
              "\n",
              "                            audios  number_of_emotion_tags  valence_tags  ...  \\\n",
              "0          1-Will-We-Survive-Swans                       3      5.140426  ...   \n",
              "1      2-Amsterdam-(Live)-Coldplay                       5      6.191030  ...   \n",
              "2            3-Scream-The-5.6.7.8s                       3      5.313334  ...   \n",
              "3  4-Welcome-to-Paradise-Sensorica                       2      6.760000  ...   \n",
              "4    5-The-Last-Hour-Elliott-Smith                       9      5.099337  ...   \n",
              "\n",
              "   restrained  wintry noble monastic sugary benevolent jovial ebullient  \\\n",
              "0         0.0     0.0   0.0      0.0    0.0        0.0    0.0       0.0   \n",
              "1         0.0     0.0   0.0      0.0    0.0        0.0    0.0       0.0   \n",
              "2         0.0     0.0   0.0      0.0    0.0        0.0    0.0       0.0   \n",
              "3         0.0     0.0   0.0      0.0    0.0        0.0    0.0       0.0   \n",
              "4         0.0     0.0   0.0      0.0    0.0        0.0    0.0       0.0   \n",
              "\n",
              "  hymn-like  sprightly  \n",
              "0       0.0        0.0  \n",
              "1       0.0        0.0  \n",
              "2       0.0        0.0  \n",
              "3       0.0        0.0  \n",
              "4       0.0        0.0  \n",
              "\n",
              "[5 rows x 192 columns]"
            ]
          },
          "execution_count": 39,
          "metadata": {},
          "output_type": "execute_result"
        }
      ],
      "source": [
        "df"
      ]
    },
    {
      "attachments": {},
      "cell_type": "markdown",
      "metadata": {},
      "source": [
        "# Audios"
      ]
    },
    {
      "attachments": {},
      "cell_type": "markdown",
      "metadata": {},
      "source": [
        "## Oauth"
      ]
    },
    {
      "cell_type": "code",
      "execution_count": 50,
      "metadata": {},
      "outputs": [
        {
          "ename": "SpotifyOauthError",
          "evalue": "error: invalid_client, error_description: Invalid client",
          "output_type": "error",
          "traceback": [
            "\u001b[0;31m---------------------------------------------------------------------------\u001b[0m",
            "\u001b[0;31mHTTPError\u001b[0m                                 Traceback (most recent call last)",
            "File \u001b[0;32m~/Descargas/music/.venv/lib/python3.10/site-packages/spotipy/oauth2.py:588\u001b[0m, in \u001b[0;36mSpotifyOAuth.refresh_access_token\u001b[0;34m(self, refresh_token)\u001b[0m\n\u001b[1;32m    581\u001b[0m response \u001b[39m=\u001b[39m \u001b[39mself\u001b[39m\u001b[39m.\u001b[39m_session\u001b[39m.\u001b[39mpost(\n\u001b[1;32m    582\u001b[0m     \u001b[39mself\u001b[39m\u001b[39m.\u001b[39mOAUTH_TOKEN_URL,\n\u001b[1;32m    583\u001b[0m     data\u001b[39m=\u001b[39mpayload,\n\u001b[0;32m   (...)\u001b[0m\n\u001b[1;32m    586\u001b[0m     timeout\u001b[39m=\u001b[39m\u001b[39mself\u001b[39m\u001b[39m.\u001b[39mrequests_timeout,\n\u001b[1;32m    587\u001b[0m )\n\u001b[0;32m--> 588\u001b[0m response\u001b[39m.\u001b[39;49mraise_for_status()\n\u001b[1;32m    589\u001b[0m token_info \u001b[39m=\u001b[39m response\u001b[39m.\u001b[39mjson()\n",
            "File \u001b[0;32m~/Descargas/music/.venv/lib/python3.10/site-packages/requests/models.py:1021\u001b[0m, in \u001b[0;36mResponse.raise_for_status\u001b[0;34m(self)\u001b[0m\n\u001b[1;32m   1020\u001b[0m \u001b[39mif\u001b[39;00m http_error_msg:\n\u001b[0;32m-> 1021\u001b[0m     \u001b[39mraise\u001b[39;00m HTTPError(http_error_msg, response\u001b[39m=\u001b[39m\u001b[39mself\u001b[39m)\n",
            "\u001b[0;31mHTTPError\u001b[0m: 400 Client Error: Bad Request for url: https://accounts.spotify.com/api/token",
            "\nDuring handling of the above exception, another exception occurred:\n",
            "\u001b[0;31mSpotifyOauthError\u001b[0m                         Traceback (most recent call last)",
            "\u001b[1;32m/home/aaldana/Descargas/music/audios.ipynb Celda 10\u001b[0m line \u001b[0;36m9\n\u001b[1;32m      <a href='vscode-notebook-cell:/home/aaldana/Descargas/music/audios.ipynb#Y121sZmlsZQ%3D%3D?line=5'>6</a>\u001b[0m os\u001b[39m.\u001b[39menviron[\u001b[39m\"\u001b[39m\u001b[39mSPOTIPY_CLIENT_SECRET\u001b[39m\u001b[39m\"\u001b[39m]\u001b[39m=\u001b[39m \u001b[39m\"\u001b[39m\u001b[39m57724a2a3b0340318c757ddedef0b012\u001b[39m\u001b[39m\"\u001b[39m\n\u001b[1;32m      <a href='vscode-notebook-cell:/home/aaldana/Descargas/music/audios.ipynb#Y121sZmlsZQ%3D%3D?line=6'>7</a>\u001b[0m os\u001b[39m.\u001b[39menviron[\u001b[39m\"\u001b[39m\u001b[39mSPOTIPY_REDIRECT_URI\u001b[39m\u001b[39m\"\u001b[39m]\u001b[39m=\u001b[39m \u001b[39m\"\u001b[39m\u001b[39mhttp://localhost:8080/callback\u001b[39m\u001b[39m\"\u001b[39m\n\u001b[0;32m----> <a href='vscode-notebook-cell:/home/aaldana/Descargas/music/audios.ipynb#Y121sZmlsZQ%3D%3D?line=8'>9</a>\u001b[0m token \u001b[39m=\u001b[39m spotipy\u001b[39m.\u001b[39;49mutil\u001b[39m.\u001b[39;49mprompt_for_user_token(\u001b[39m\"\u001b[39;49m\u001b[39mpadovil\u001b[39;49m\u001b[39m\"\u001b[39;49m, \u001b[39m\"\u001b[39;49m\u001b[39muser-follow-modify playlist-modify-private playlist-modify-public\u001b[39;49m\u001b[39m\"\u001b[39;49m)\n\u001b[1;32m     <a href='vscode-notebook-cell:/home/aaldana/Descargas/music/audios.ipynb#Y121sZmlsZQ%3D%3D?line=9'>10</a>\u001b[0m sp \u001b[39m=\u001b[39m spotipy\u001b[39m.\u001b[39mSpotify(auth\u001b[39m=\u001b[39mtoken)\n",
            "File \u001b[0;32m~/Descargas/music/.venv/lib/python3.10/site-packages/spotipy/util.py:96\u001b[0m, in \u001b[0;36mprompt_for_user_token\u001b[0;34m(username, scope, client_id, client_secret, redirect_uri, cache_path, oauth_manager, show_dialog)\u001b[0m\n\u001b[1;32m     82\u001b[0m sp_oauth \u001b[39m=\u001b[39m oauth_manager \u001b[39mor\u001b[39;00m spotipy\u001b[39m.\u001b[39mSpotifyOAuth(\n\u001b[1;32m     83\u001b[0m     client_id,\n\u001b[1;32m     84\u001b[0m     client_secret,\n\u001b[0;32m   (...)\u001b[0m\n\u001b[1;32m     89\u001b[0m     show_dialog\u001b[39m=\u001b[39mshow_dialog\n\u001b[1;32m     90\u001b[0m )\n\u001b[1;32m     92\u001b[0m \u001b[39m# try to get a valid token for this user, from the cache,\u001b[39;00m\n\u001b[1;32m     93\u001b[0m \u001b[39m# if not in the cache, then create a new (this will send\u001b[39;00m\n\u001b[1;32m     94\u001b[0m \u001b[39m# the user to a web page where they can authorize this app)\u001b[39;00m\n\u001b[0;32m---> 96\u001b[0m token_info \u001b[39m=\u001b[39m sp_oauth\u001b[39m.\u001b[39;49mvalidate_token(sp_oauth\u001b[39m.\u001b[39;49mcache_handler\u001b[39m.\u001b[39;49mget_cached_token())\n\u001b[1;32m     98\u001b[0m \u001b[39mif\u001b[39;00m \u001b[39mnot\u001b[39;00m token_info:\n\u001b[1;32m     99\u001b[0m     code \u001b[39m=\u001b[39m sp_oauth\u001b[39m.\u001b[39mget_auth_response()\n",
            "File \u001b[0;32m~/Descargas/music/.venv/lib/python3.10/site-packages/spotipy/oauth2.py:380\u001b[0m, in \u001b[0;36mSpotifyOAuth.validate_token\u001b[0;34m(self, token_info)\u001b[0m\n\u001b[1;32m    377\u001b[0m     \u001b[39mreturn\u001b[39;00m \u001b[39mNone\u001b[39;00m\n\u001b[1;32m    379\u001b[0m \u001b[39mif\u001b[39;00m \u001b[39mself\u001b[39m\u001b[39m.\u001b[39mis_token_expired(token_info):\n\u001b[0;32m--> 380\u001b[0m     token_info \u001b[39m=\u001b[39m \u001b[39mself\u001b[39;49m\u001b[39m.\u001b[39;49mrefresh_access_token(\n\u001b[1;32m    381\u001b[0m         token_info[\u001b[39m\"\u001b[39;49m\u001b[39mrefresh_token\u001b[39;49m\u001b[39m\"\u001b[39;49m]\n\u001b[1;32m    382\u001b[0m     )\n\u001b[1;32m    384\u001b[0m \u001b[39mreturn\u001b[39;00m token_info\n",
            "File \u001b[0;32m~/Descargas/music/.venv/lib/python3.10/site-packages/spotipy/oauth2.py:596\u001b[0m, in \u001b[0;36mSpotifyOAuth.refresh_access_token\u001b[0;34m(self, refresh_token)\u001b[0m\n\u001b[1;32m    594\u001b[0m     \u001b[39mreturn\u001b[39;00m token_info\n\u001b[1;32m    595\u001b[0m \u001b[39mexcept\u001b[39;00m requests\u001b[39m.\u001b[39mexceptions\u001b[39m.\u001b[39mHTTPError \u001b[39mas\u001b[39;00m http_error:\n\u001b[0;32m--> 596\u001b[0m     \u001b[39mself\u001b[39;49m\u001b[39m.\u001b[39;49m_handle_oauth_error(http_error)\n",
            "File \u001b[0;32m~/Descargas/music/.venv/lib/python3.10/site-packages/spotipy/oauth2.py:146\u001b[0m, in \u001b[0;36mSpotifyAuthBase._handle_oauth_error\u001b[0;34m(self, http_error)\u001b[0m\n\u001b[1;32m    143\u001b[0m     error \u001b[39m=\u001b[39m response\u001b[39m.\u001b[39mtext \u001b[39mor\u001b[39;00m \u001b[39mNone\u001b[39;00m\n\u001b[1;32m    144\u001b[0m     error_description \u001b[39m=\u001b[39m \u001b[39mNone\u001b[39;00m\n\u001b[0;32m--> 146\u001b[0m \u001b[39mraise\u001b[39;00m SpotifyOauthError(\n\u001b[1;32m    147\u001b[0m     \u001b[39m'\u001b[39m\u001b[39merror: \u001b[39m\u001b[39m{0}\u001b[39;00m\u001b[39m, error_description: \u001b[39m\u001b[39m{1}\u001b[39;00m\u001b[39m'\u001b[39m\u001b[39m.\u001b[39mformat(\n\u001b[1;32m    148\u001b[0m         error, error_description\n\u001b[1;32m    149\u001b[0m     ),\n\u001b[1;32m    150\u001b[0m     error\u001b[39m=\u001b[39merror,\n\u001b[1;32m    151\u001b[0m     error_description\u001b[39m=\u001b[39merror_description\n\u001b[1;32m    152\u001b[0m )\n",
            "\u001b[0;31mSpotifyOauthError\u001b[0m: error: invalid_client, error_description: Invalid client"
          ]
        }
      ],
      "source": [
        "import os\n",
        "import spotipy\n",
        "from spotipy.oauth2 import SpotifyClientCredentials\n",
        "\n",
        "os.environ[\"SPOTIPY_CLIENT_ID\"]= \"23f477012828439fbccd5c52880343e1\"\n",
        "os.environ[\"SPOTIPY_CLIENT_SECRET\"]= \"57724a2a3b0340318c757ddedef0b012\"\n",
        "os.environ[\"SPOTIPY_REDIRECT_URI\"]= \"http://localhost:8080/callback\"\n",
        "\n",
        "token = spotipy.util.prompt_for_user_token(\"padovil\", \"user-follow-modify playlist-modify-private playlist-modify-public\")\n",
        "sp = spotipy.Spotify(auth=token)\n"
      ]
    },
    {
      "attachments": {},
      "cell_type": "markdown",
      "metadata": {},
      "source": [
        "## crear playlist"
      ]
    },
    {
      "cell_type": "code",
      "execution_count": 43,
      "metadata": {},
      "outputs": [
        {
          "name": "stderr",
          "output_type": "stream",
          "text": [
            "HTTP Error for POST to https://api.spotify.com/v1/users/padovil/playlists with Params: {} returned 401 due to The access token expired\n"
          ]
        },
        {
          "ename": "SpotifyException",
          "evalue": "http status: 401, code:-1 - https://api.spotify.com/v1/users/padovil/playlists:\n The access token expired, reason: None",
          "output_type": "error",
          "traceback": [
            "\u001b[0;31m---------------------------------------------------------------------------\u001b[0m",
            "\u001b[0;31mHTTPError\u001b[0m                                 Traceback (most recent call last)",
            "File \u001b[0;32m~/Descargas/music/.venv/lib/python3.10/site-packages/spotipy/client.py:271\u001b[0m, in \u001b[0;36mSpotify._internal_call\u001b[0;34m(self, method, url, payload, params)\u001b[0m\n\u001b[1;32m    266\u001b[0m response \u001b[39m=\u001b[39m \u001b[39mself\u001b[39m\u001b[39m.\u001b[39m_session\u001b[39m.\u001b[39mrequest(\n\u001b[1;32m    267\u001b[0m     method, url, headers\u001b[39m=\u001b[39mheaders, proxies\u001b[39m=\u001b[39m\u001b[39mself\u001b[39m\u001b[39m.\u001b[39mproxies,\n\u001b[1;32m    268\u001b[0m     timeout\u001b[39m=\u001b[39m\u001b[39mself\u001b[39m\u001b[39m.\u001b[39mrequests_timeout, \u001b[39m*\u001b[39m\u001b[39m*\u001b[39margs\n\u001b[1;32m    269\u001b[0m )\n\u001b[0;32m--> 271\u001b[0m response\u001b[39m.\u001b[39;49mraise_for_status()\n\u001b[1;32m    272\u001b[0m results \u001b[39m=\u001b[39m response\u001b[39m.\u001b[39mjson()\n",
            "File \u001b[0;32m~/Descargas/music/.venv/lib/python3.10/site-packages/requests/models.py:1021\u001b[0m, in \u001b[0;36mResponse.raise_for_status\u001b[0;34m(self)\u001b[0m\n\u001b[1;32m   1020\u001b[0m \u001b[39mif\u001b[39;00m http_error_msg:\n\u001b[0;32m-> 1021\u001b[0m     \u001b[39mraise\u001b[39;00m HTTPError(http_error_msg, response\u001b[39m=\u001b[39m\u001b[39mself\u001b[39m)\n",
            "\u001b[0;31mHTTPError\u001b[0m: 401 Client Error: Unauthorized for url: https://api.spotify.com/v1/users/padovil/playlists",
            "\nDuring handling of the above exception, another exception occurred:\n",
            "\u001b[0;31mSpotifyException\u001b[0m                          Traceback (most recent call last)",
            "\u001b[1;32m/home/aaldana/Descargas/music/audios.ipynb Celda 12\u001b[0m line \u001b[0;36m1\n\u001b[0;32m----> <a href='vscode-notebook-cell:/home/aaldana/Descargas/music/audios.ipynb#Y123sZmlsZQ%3D%3D?line=0'>1</a>\u001b[0m sp\u001b[39m.\u001b[39;49muser_playlist_create(user\u001b[39m=\u001b[39;49m\u001b[39m\"\u001b[39;49m\u001b[39mpadovil\u001b[39;49m\u001b[39m\"\u001b[39;49m, name\u001b[39m=\u001b[39;49m\u001b[39m\"\u001b[39;49m\u001b[39mCanciones3\u001b[39;49m\u001b[39m\"\u001b[39;49m, public\u001b[39m=\u001b[39;49m\u001b[39mTrue\u001b[39;49;00m, description\u001b[39m=\u001b[39;49m\u001b[39m\"\u001b[39;49m\u001b[39mTesis test\u001b[39;49m\u001b[39m\"\u001b[39;49m) \u001b[39m#ya esta creado\u001b[39;00m\n\u001b[1;32m      <a href='vscode-notebook-cell:/home/aaldana/Descargas/music/audios.ipynb#Y123sZmlsZQ%3D%3D?line=1'>2</a>\u001b[0m \u001b[39m#spotify:playlist:5d8BjZZUYCR2f7T5rvYYhs\u001b[39;00m\n",
            "File \u001b[0;32m~/Descargas/music/.venv/lib/python3.10/site-packages/spotipy/client.py:818\u001b[0m, in \u001b[0;36mSpotify.user_playlist_create\u001b[0;34m(self, user, name, public, collaborative, description)\u001b[0m\n\u001b[1;32m    802\u001b[0m \u001b[39m\u001b[39m\u001b[39m\"\"\" Creates a playlist for a user\u001b[39;00m\n\u001b[1;32m    803\u001b[0m \n\u001b[1;32m    804\u001b[0m \u001b[39m    Parameters:\u001b[39;00m\n\u001b[0;32m   (...)\u001b[0m\n\u001b[1;32m    809\u001b[0m \u001b[39m        - description - the description of the playlist\u001b[39;00m\n\u001b[1;32m    810\u001b[0m \u001b[39m\"\"\"\u001b[39;00m\n\u001b[1;32m    811\u001b[0m data \u001b[39m=\u001b[39m {\n\u001b[1;32m    812\u001b[0m     \u001b[39m\"\u001b[39m\u001b[39mname\u001b[39m\u001b[39m\"\u001b[39m: name,\n\u001b[1;32m    813\u001b[0m     \u001b[39m\"\u001b[39m\u001b[39mpublic\u001b[39m\u001b[39m\"\u001b[39m: public,\n\u001b[1;32m    814\u001b[0m     \u001b[39m\"\u001b[39m\u001b[39mcollaborative\u001b[39m\u001b[39m\"\u001b[39m: collaborative,\n\u001b[1;32m    815\u001b[0m     \u001b[39m\"\u001b[39m\u001b[39mdescription\u001b[39m\u001b[39m\"\u001b[39m: description\n\u001b[1;32m    816\u001b[0m }\n\u001b[0;32m--> 818\u001b[0m \u001b[39mreturn\u001b[39;00m \u001b[39mself\u001b[39;49m\u001b[39m.\u001b[39;49m_post(\u001b[39m\"\u001b[39;49m\u001b[39musers/\u001b[39;49m\u001b[39m%s\u001b[39;49;00m\u001b[39m/playlists\u001b[39;49m\u001b[39m\"\u001b[39;49m \u001b[39m%\u001b[39;49m (user,), payload\u001b[39m=\u001b[39;49mdata)\n",
            "File \u001b[0;32m~/Descargas/music/.venv/lib/python3.10/site-packages/spotipy/client.py:328\u001b[0m, in \u001b[0;36mSpotify._post\u001b[0;34m(self, url, args, payload, **kwargs)\u001b[0m\n\u001b[1;32m    326\u001b[0m \u001b[39mif\u001b[39;00m args:\n\u001b[1;32m    327\u001b[0m     kwargs\u001b[39m.\u001b[39mupdate(args)\n\u001b[0;32m--> 328\u001b[0m \u001b[39mreturn\u001b[39;00m \u001b[39mself\u001b[39;49m\u001b[39m.\u001b[39;49m_internal_call(\u001b[39m\"\u001b[39;49m\u001b[39mPOST\u001b[39;49m\u001b[39m\"\u001b[39;49m, url, payload, kwargs)\n",
            "File \u001b[0;32m~/Descargas/music/.venv/lib/python3.10/site-packages/spotipy/client.py:293\u001b[0m, in \u001b[0;36mSpotify._internal_call\u001b[0;34m(self, method, url, payload, params)\u001b[0m\n\u001b[1;32m    286\u001b[0m         reason \u001b[39m=\u001b[39m \u001b[39mNone\u001b[39;00m\n\u001b[1;32m    288\u001b[0m     logger\u001b[39m.\u001b[39merror(\n\u001b[1;32m    289\u001b[0m         \u001b[39m'\u001b[39m\u001b[39mHTTP Error for \u001b[39m\u001b[39m%s\u001b[39;00m\u001b[39m to \u001b[39m\u001b[39m%s\u001b[39;00m\u001b[39m with Params: \u001b[39m\u001b[39m%s\u001b[39;00m\u001b[39m returned \u001b[39m\u001b[39m%s\u001b[39;00m\u001b[39m due to \u001b[39m\u001b[39m%s\u001b[39;00m\u001b[39m'\u001b[39m,\n\u001b[1;32m    290\u001b[0m         method, url, args\u001b[39m.\u001b[39mget(\u001b[39m\"\u001b[39m\u001b[39mparams\u001b[39m\u001b[39m\"\u001b[39m), response\u001b[39m.\u001b[39mstatus_code, msg\n\u001b[1;32m    291\u001b[0m     )\n\u001b[0;32m--> 293\u001b[0m     \u001b[39mraise\u001b[39;00m SpotifyException(\n\u001b[1;32m    294\u001b[0m         response\u001b[39m.\u001b[39mstatus_code,\n\u001b[1;32m    295\u001b[0m         \u001b[39m-\u001b[39m\u001b[39m1\u001b[39m,\n\u001b[1;32m    296\u001b[0m         \u001b[39m\"\u001b[39m\u001b[39m%s\u001b[39;00m\u001b[39m:\u001b[39m\u001b[39m\\n\u001b[39;00m\u001b[39m \u001b[39m\u001b[39m%s\u001b[39;00m\u001b[39m\"\u001b[39m \u001b[39m%\u001b[39m (response\u001b[39m.\u001b[39murl, msg),\n\u001b[1;32m    297\u001b[0m         reason\u001b[39m=\u001b[39mreason,\n\u001b[1;32m    298\u001b[0m         headers\u001b[39m=\u001b[39mresponse\u001b[39m.\u001b[39mheaders,\n\u001b[1;32m    299\u001b[0m     )\n\u001b[1;32m    300\u001b[0m \u001b[39mexcept\u001b[39;00m requests\u001b[39m.\u001b[39mexceptions\u001b[39m.\u001b[39mRetryError \u001b[39mas\u001b[39;00m retry_error:\n\u001b[1;32m    301\u001b[0m     request \u001b[39m=\u001b[39m retry_error\u001b[39m.\u001b[39mrequest\n",
            "\u001b[0;31mSpotifyException\u001b[0m: http status: 401, code:-1 - https://api.spotify.com/v1/users/padovil/playlists:\n The access token expired, reason: None"
          ]
        }
      ],
      "source": [
        "\n",
        "sp.user_playlist_create(user=\"padovil\", name=\"Canciones3\", public=True, description=\"Tesis test\") #ya esta creado\n",
        "#spotify:playlist:5d8BjZZUYCR2f7T5rvYYhs"
      ]
    },
    {
      "attachments": {},
      "cell_type": "markdown",
      "metadata": {},
      "source": [
        "## Playlist add items"
      ]
    },
    {
      "cell_type": "code",
      "execution_count": 28,
      "metadata": {},
      "outputs": [
        {
          "data": {
            "text/plain": [
              "{'snapshot_id': 'MiwyZTY1MTExNzMwMDU1ZjU3YzljNDlmYjczZjRkZjFjMzUwMjcwNjdh'}"
            ]
          },
          "execution_count": 28,
          "metadata": {},
          "output_type": "execute_result"
        }
      ],
      "source": [
        "#SOLO EJECUTAR UNA VEZ\n",
        "sp.playlist_add_items(playlist_id=\"spotify:playlist:2oJhmP4HckB4z3UVAKoJuV\", items=df[\"spotify_id\"])"
      ]
    },
    {
      "attachments": {},
      "cell_type": "markdown",
      "metadata": {},
      "source": [
        "## Download audios"
      ]
    },
    {
      "cell_type": "code",
      "execution_count": 36,
      "metadata": {},
      "outputs": [
        {
          "name": "stdout",
          "output_type": "stream",
          "text": [
            "Writing 5 tracks to Canciones3.txt.\n",
            "Initiating download for Sensorica - Welcome to Paradise.\n",
            "Initiating download for Swans - Will We Survive.\n",
            "***************************\n",
            "[youtube] Extracting URL: https://www.youtube.com/watch?v=LrWdDg38mYM&pp=ygUfU2Vuc29yaWNhIC0gV2VsY29tZSB0byBQYXJhZGlzZQ%3D%3D\n",
            "[youtube] LrWdDg38mYM: Downloading webpage\n",
            "Initiating download for The 5.6.7.8's - Scream.\n",
            "***************************\n",
            "[youtube] Extracting URL: https://www.youtube.com/watch?v=eFf9IWEmSnU&pp=ygUXU3dhbnMgLSBXaWxsIFdlIFN1cnZpdmU%3D\n",
            "[youtube] eFf9IWEmSnU: Downloading webpage\n",
            "***************************\n",
            "[youtube] Extracting URL: https://www.youtube.com/watch?v=1D0syqPAwhs&pp=ygUWVGhlIDUuNi43LjgncyAtIFNjcmVhbQ%3D%3D\n",
            "[youtube] 1D0syqPAwhs: Downloading webpage\n",
            "Initiating download for Elliott Smith - The Last Hour.\n",
            "***************************\n",
            "[youtube] Extracting URL: https://www.youtube.com/watch?v=8MVmz_roG54&pp=ygUdRWxsaW90dCBTbWl0aCAtIFRoZSBMYXN0IEhvdXI%3D\n",
            "[youtube] 8MVmz_roG54: Downloading webpage\n",
            "Initiating download for Coldplay - Amsterdam - Live in Sydney.\n",
            "***************************\n",
            "[youtube] Extracting URL: https://www.youtube.com/watch?v=0dOHd0ggssE&pp=ygUlQ29sZHBsYXkgLSBBbXN0ZXJkYW0gLSBMaXZlIGluIFN5ZG5leQ%3D%3D\n",
            "[youtube] 0dOHd0ggssE: Downloading webpage\n",
            "[youtube] eFf9IWEmSnU: Downloading ios player API JSON\n",
            "[youtube] 1D0syqPAwhs: Downloading ios player API JSON\n",
            "[youtube] LrWdDg38mYM: Downloading ios player API JSON\n",
            "[youtube] 8MVmz_roG54: Downloading ios player API JSON\n",
            "[youtube] eFf9IWEmSnU: Downloading android player API JSON\n",
            "[youtube] LrWdDg38mYM: Downloading android player API JSON\n",
            "[youtube] 1D0syqPAwhs: Downloading android player API JSON\n",
            "[youtube] 8MVmz_roG54: Downloading android player API JSON\n",
            "[youtube] LrWdDg38mYM: Downloading m3u8 information\n",
            "[youtube] eFf9IWEmSnU: Downloading m3u8 information\n",
            "[youtube] 1D0syqPAwhs: Downloading m3u8 information\n",
            "[youtube] 8MVmz_roG54: Downloading m3u8 information\n",
            "[youtube] 0dOHd0ggssE: Downloading ios player API JSON\n",
            "[youtube] 0dOHd0ggssE: Downloading android player API JSON\n",
            "[info] LrWdDg38mYM: Downloading 1 format(s): 251\n",
            "[download] Destination: Welcome to Paradise [LrWdDg38mYM].webm\n",
            "\u001b[K[download] \u001b[0;94m  0.8%\u001b[0m of    7.37MiB at \u001b[0;32m   3.60MiB/s\u001b[0m ETA \u001b[0;33m00:02\u001b[0m[info] 1D0syqPAwhs: Downloading 1 format(s): 251\n",
            "[info] 8MVmz_roG54: Downloading 1 format(s): 251\n",
            "\u001b[K[download] \u001b[0;94m  3.4%\u001b[0m of    7.37MiB at \u001b[0;32m   4.34MiB/s\u001b[0m ETA \u001b[0;33m00:01\u001b[0m[youtube] 0dOHd0ggssE: Downloading m3u8 information\n",
            "\u001b[K[download] \u001b[0;94m  6.8%\u001b[0m of    7.37MiB at \u001b[0;32m   4.99MiB/s\u001b[0m ETA \u001b[0;33m00:01\u001b[0m[download] Destination: Elliott Smith – The Last Hour (from From A Basement On The Hill) [8MVmz_roG54].webm\n",
            "\u001b[K[download] \u001b[0;94m 16.6%\u001b[0m of    3.00MiB at \u001b[0;32m   2.00MiB/s\u001b[0m ETA \u001b[0;33m00:01\u001b[0m[download] Destination: The 5,6,7,8's- Scream [1D0syqPAwhs].webm\n",
            "\u001b[K[download] \u001b[0;94m  3.9%\u001b[0m of    1.57MiB at \u001b[0;32m 569.28KiB/s\u001b[0m ETA \u001b[0;33m00:02\u001b[0m[info] eFf9IWEmSnU: Downloading 1 format(s): 251\n",
            "\u001b[K[download] \u001b[0;94m 63.7%\u001b[0m of    1.57MiB at \u001b[0;32m   1.67MiB/s\u001b[0m ETA \u001b[0;33m00:00\u001b[0m[download] Destination: Swans - Will We Survive [eFf9IWEmSnU].webm\n",
            "\u001b[K[download] 100% of    1.57MiB in \u001b[1;37m00:00:01\u001b[0m at \u001b[0;32m1.50MiB/s\u001b[0m0;33m00:00\u001b[0m\n",
            "\u001b[K[download] \u001b[0;94m 54.2%\u001b[0m of    7.37MiB at \u001b[0;32m   3.62MiB/s\u001b[0m ETA \u001b[0;33m00:00\u001b[0m[ExtractAudio] Destination: The 5,6,7,8's- Scream [1D0syqPAwhs].mp3\n",
            "\u001b[K[download] \u001b[0;94m  1.1%\u001b[0m of    5.76MiB at \u001b[0;32m 298.88KiB/s\u001b[0m ETA \u001b[0;33m00:19\u001b[0m[info] 0dOHd0ggssE: Downloading 1 format(s): 251\n",
            "\u001b[K[download] 100% of    3.00MiB in \u001b[1;37m00:00:01\u001b[0m at \u001b[0;32m2.02MiB/s\u001b[0m0;33m00:00\u001b[0m\n",
            "[download] Destination: Amsterdam (Live in Sydney) [0dOHd0ggssE].webm\n",
            "\u001b[K[download] \u001b[0;94m  0.3%\u001b[0m of    5.22MiB at \u001b[0;32m 541.59KiB/s\u001b[0m ETA \u001b[0;33m00:09\u001b[0m[ExtractAudio] Destination: Elliott Smith – The Last Hour (from From A Basement On The Hill) [8MVmz_roG54].mp3\n",
            "\u001b[K[download] 100% of    7.37MiB in \u001b[1;37m00:00:01\u001b[0m at \u001b[0;32m3.82MiB/s\u001b[0m0;33m00:00\u001b[0m\n",
            "[ExtractAudio] Destination: Welcome to Paradise [LrWdDg38mYM].mp3\n",
            "\u001b[K[download] 100% of    5.76MiB in \u001b[1;37m00:00:01\u001b[0m at \u001b[0;32m3.26MiB/s\u001b[0m0;33m00:00\u001b[0m\n",
            "\u001b[K[download] \u001b[0;94m  9.6%\u001b[0m of    5.22MiB at \u001b[0;32m 609.37KiB/s\u001b[0m ETA \u001b[0;33m00:07\u001b[0m[ExtractAudio] Destination: Swans - Will We Survive [eFf9IWEmSnU].mp3\n",
            "\u001b[K[download] \u001b[0;94m 38.3%\u001b[0m of    5.22MiB at \u001b[0;32m   1.33MiB/s\u001b[0m ETA \u001b[0;33m00:02\u001b[0mDeleting original file The 5,6,7,8's- Scream [1D0syqPAwhs].webm (pass -k to keep)\n",
            "\u001b[K[download] 100% of    5.22MiB in \u001b[1;37m00:00:02\u001b[0m at \u001b[0;32m2.16MiB/s\u001b[0m0;33m00:00\u001b[0m\n",
            "[ExtractAudio] Destination: Amsterdam (Live in Sydney) [0dOHd0ggssE].mp3\n",
            "Deleting original file Elliott Smith – The Last Hour (from From A Basement On The Hill) [8MVmz_roG54].webm (pass -k to keep)\n",
            "Deleting original file Swans - Will We Survive [eFf9IWEmSnU].webm (pass -k to keep)\n",
            "Deleting original file Amsterdam (Live in Sydney) [0dOHd0ggssE].webm (pass -k to keep)\n",
            "Deleting original file Welcome to Paradise [LrWdDg38mYM].webm (pass -k to keep)\n",
            "Operation complete.\n"
          ]
        }
      ],
      "source": [
        "!python  spotify-to-mp3-python/Canciones_tesis/spotify_to_mp3.py "
      ]
    }
  ],
  "metadata": {
    "colab": {
      "provenance": []
    },
    "kernelspec": {
      "display_name": "venv",
      "language": "python",
      "name": "python3"
    },
    "language_info": {
      "codemirror_mode": {
        "name": "ipython",
        "version": 3
      },
      "file_extension": ".py",
      "mimetype": "text/x-python",
      "name": "python",
      "nbconvert_exporter": "python",
      "pygments_lexer": "ipython3",
      "version": "3.10.12"
    }
  },
  "nbformat": 4,
  "nbformat_minor": 0
}
